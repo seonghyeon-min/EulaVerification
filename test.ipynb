{
 "cells": [
  {
   "cell_type": "code",
   "execution_count": 1,
   "metadata": {},
   "outputs": [],
   "source": [
    "import json\n",
    "\n",
    "\n",
    "data = { \"eulaMappingList\" : { \"maxEulaMappingGroupId\": \"GR00011501\", \"eulaInfo\": [ { \"eulaGroupName\": \"firstUse\", \"overview\": [ \"S_DSC\" ], \"settingKey\": \"firstUseAllowed\" }, { \"eulaGroupName\": \"generalTerms\", \"mandatory\": [ \"S_SVC\", \"S_PRV\", \"S_PRM\" ], \"notice\": [ \"S_PRY\" ], \"selectAll\": [ \"S_ALL\" ], \"settingKey\": \"generalTermsAllowed\" }, { \"eulaGroupName\": \"additionalData\", \"mandatory\": [ \"S_SVC\", \"S_PRV\", \"S_PRM\" ], \"notice\": [ \"S_PRY\" ], \"selectAll\": [ \"S_ALL\" ], \"settingKey\": \"additionalDataAllowed\" }, { \"eulaGroupName\": \"customAd\", \"mandatory\": [ \"S_SVC\", \"S_PRV\", \"S_PRM\", \"S_PRC\", \"S_PRD\" ], \"notice\": [ \"S_PRY\" ], \"selectAll\": [ \"S_ALL\" ], \"settingKey\": \"customAdAllowed\" }, { \"eulaGroupName\": \"voice\", \"mandatory\": [ \"S_SVC\", \"S_PRV\", \"S_PRM\", \"S_VDC\", \"S_VDD\" ], \"notice\": [ \"S_PRY\" ], \"selectAll\": [ \"S_ALL\" ], \"settingKey\": \"voiceAllowed\" }, { \"eulaGroupName\": \"all\", \"mandatory\": [ \"S_SVC\", \"S_PRV\", \"S_PRM\", \"S_PRC\", \"S_PRD\", \"S_VDC\", \"S_VDD\" ], \"notice\": [ \"S_PRY\" ], \"selectAll\": [ \"S_ALL\" ], \"settingKey\": \"allAllowed\" }, { \"eulaGroupName\": \"voice2\", \"mandatory\": [ \"S_SVC\", \"S_PRV\", \"S_PRM\", \"S_VDC\", \"S_VDD\" ], \"notice\": [ \"S_PRY\" ], \"selectAll\": [ \"S_ALL\" ], \"settingKey\": \"voice2Allowed\" }, { \"eulaGroupName\": \"chp\", \"mandatory\": [ \"S_SVC\", \"S_PRV\", \"S_PRM\" ], \"notice\": [ \"S_PRY\" ], \"selectAll\": [ \"S_ALL\" ], \"settingKey\": \"chpAllowed\" } ] }}\n"
   ]
  },
  {
   "cell_type": "code",
   "execution_count": 10,
   "metadata": {},
   "outputs": [
    {
     "name": "stdout",
     "output_type": "stream",
     "text": [
      "{'eulaGroupName': 'all', 'mandatory': ['S_SVC', 'S_PRV', 'S_PRM', 'S_PRC', 'S_PRD', 'S_VDC', 'S_VDD'], 'notice': ['S_PRY'], 'selectAll': ['S_ALL'], 'settingKey': 'allAllowed'}\n"
     ]
    }
   ],
   "source": [
    "for key in data['eulaMappingList']['eulaInfo'] :\n",
    "    if key['eulaGroupName'] == 'all' :\n",
    "        print(key)"
   ]
  },
  {
   "cell_type": "code",
   "execution_count": 1,
   "metadata": {},
   "outputs": [
    {
     "data": {
      "text/html": [
       "<div>\n",
       "<style scoped>\n",
       "    .dataframe tbody tr th:only-of-type {\n",
       "        vertical-align: middle;\n",
       "    }\n",
       "\n",
       "    .dataframe tbody tr th {\n",
       "        vertical-align: top;\n",
       "    }\n",
       "\n",
       "    .dataframe thead th {\n",
       "        text-align: right;\n",
       "    }\n",
       "</style>\n",
       "<table border=\"1\" class=\"dataframe\">\n",
       "  <thead>\n",
       "    <tr style=\"text-align: right;\">\n",
       "      <th></th>\n",
       "      <th>country_code</th>\n",
       "      <th>terms_code</th>\n",
       "    </tr>\n",
       "  </thead>\n",
       "  <tbody>\n",
       "    <tr>\n",
       "      <th>0</th>\n",
       "      <td>KOR</td>\n",
       "      <td>[S_SVC, S_PRV, S_PRM, S_PRC, S_PRD, S_VDC, S_VDD]</td>\n",
       "    </tr>\n",
       "  </tbody>\n",
       "</table>\n",
       "</div>"
      ],
      "text/plain": [
       "  country_code                                         terms_code\n",
       "0          KOR  [S_SVC, S_PRV, S_PRM, S_PRC, S_PRD, S_VDC, S_VDD]"
      ]
     },
     "execution_count": 1,
     "metadata": {},
     "output_type": "execute_result"
    }
   ],
   "source": [
    "import pandas as pd\n",
    "\n",
    "df = pd.DataFrame({'country_code' : ['KOR'], 'terms_code' : [['S_SVC', 'S_PRV', 'S_PRM', 'S_PRC', 'S_PRD', 'S_VDC', 'S_VDD']]})\n",
    "\n",
    "df"
   ]
  },
  {
   "cell_type": "code",
   "execution_count": null,
   "metadata": {},
   "outputs": [],
   "source": []
  }
 ],
 "metadata": {
  "kernelspec": {
   "display_name": "Python 3",
   "language": "python",
   "name": "python3"
  },
  "language_info": {
   "codemirror_mode": {
    "name": "ipython",
    "version": 3
   },
   "file_extension": ".py",
   "mimetype": "text/x-python",
   "name": "python",
   "nbconvert_exporter": "python",
   "pygments_lexer": "ipython3",
   "version": "3.11.3"
  },
  "orig_nbformat": 4,
  "vscode": {
   "interpreter": {
    "hash": "c261aea317cc0286b3b3261fbba9abdec21eaa57589985bb7a274bf54d6cc0a7"
   }
  }
 },
 "nbformat": 4,
 "nbformat_minor": 2
}
