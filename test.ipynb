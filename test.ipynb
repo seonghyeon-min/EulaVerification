{
 "cells": [
  {
   "cell_type": "code",
   "execution_count": 51,
   "metadata": {},
   "outputs": [],
   "source": [
    "import pandas as pd\n",
    "import numpy as np\n",
    "\n",
    "db = pd.read_excel('eula_code.xlsx', index_col='country_two_code')\n",
    "data_db = db[db['terms_code'].isna()==False]"
   ]
  },
  {
   "cell_type": "code",
   "execution_count": 52,
   "metadata": {},
   "outputs": [
    {
     "name": "stderr",
     "output_type": "stream",
     "text": [
      "C:\\Users\\test\\AppData\\Local\\Temp\\ipykernel_6628\\232831958.py:1: SettingWithCopyWarning: \n",
      "A value is trying to be set on a copy of a slice from a DataFrame.\n",
      "Try using .loc[row_indexer,col_indexer] = value instead\n",
      "\n",
      "See the caveats in the documentation: https://pandas.pydata.org/pandas-docs/stable/user_guide/indexing.html#returning-a-view-versus-a-copy\n",
      "  data_db['terms_code'] = data_db['terms_code'].map(lambda x : x.split(', '))\n"
     ]
    }
   ],
   "source": [
    "data_db['terms_code'] = data_db['terms_code'].map(lambda x : x.split(', '))"
   ]
  },
  {
   "cell_type": "code",
   "execution_count": 53,
   "metadata": {},
   "outputs": [
    {
     "data": {
      "text/html": [
       "<div>\n",
       "<style scoped>\n",
       "    .dataframe tbody tr th:only-of-type {\n",
       "        vertical-align: middle;\n",
       "    }\n",
       "\n",
       "    .dataframe tbody tr th {\n",
       "        vertical-align: top;\n",
       "    }\n",
       "\n",
       "    .dataframe thead th {\n",
       "        text-align: right;\n",
       "    }\n",
       "</style>\n",
       "<table border=\"1\" class=\"dataframe\">\n",
       "  <thead>\n",
       "    <tr style=\"text-align: right;\">\n",
       "      <th></th>\n",
       "      <th>country_three_code</th>\n",
       "      <th>country_info</th>\n",
       "      <th>terms_code</th>\n",
       "    </tr>\n",
       "    <tr>\n",
       "      <th>country_two_code</th>\n",
       "      <th></th>\n",
       "      <th></th>\n",
       "      <th></th>\n",
       "    </tr>\n",
       "  </thead>\n",
       "  <tbody>\n",
       "    <tr>\n",
       "      <th>KR</th>\n",
       "      <td>KOR</td>\n",
       "      <td>Korea</td>\n",
       "      <td>[S_SVC, S_PRV, S_PRM, S_PRC, S_PRD, S_VDC, S_VDD]</td>\n",
       "    </tr>\n",
       "    <tr>\n",
       "      <th>US</th>\n",
       "      <td>USA</td>\n",
       "      <td>USA</td>\n",
       "      <td>[S_SVC, S_PRG, S_ADG, S_VNG, S_TAG, S_VRC]</td>\n",
       "    </tr>\n",
       "  </tbody>\n",
       "</table>\n",
       "</div>"
      ],
      "text/plain": [
       "                 country_three_code country_info  \\\n",
       "country_two_code                                   \n",
       "KR                              KOR        Korea   \n",
       "US                              USA          USA   \n",
       "\n",
       "                                                         terms_code  \n",
       "country_two_code                                                     \n",
       "KR                [S_SVC, S_PRV, S_PRM, S_PRC, S_PRD, S_VDC, S_VDD]  \n",
       "US                       [S_SVC, S_PRG, S_ADG, S_VNG, S_TAG, S_VRC]  "
      ]
     },
     "execution_count": 53,
     "metadata": {},
     "output_type": "execute_result"
    }
   ],
   "source": [
    "data_db"
   ]
  },
  {
   "cell_type": "code",
   "execution_count": 54,
   "metadata": {},
   "outputs": [],
   "source": [
    "data_db.to_json('eula.json', orient='index',indent=4)"
   ]
  },
  {
   "cell_type": "code",
   "execution_count": 55,
   "metadata": {},
   "outputs": [],
   "source": [
    "import json\n",
    "\n",
    "with open('eula.json', 'r') as j :\n",
    "    contents = json.loads(j.read())"
   ]
  },
  {
   "cell_type": "code",
   "execution_count": 57,
   "metadata": {},
   "outputs": [
    {
     "data": {
      "text/plain": [
       "dict_keys(['KR', 'US'])"
      ]
     },
     "execution_count": 57,
     "metadata": {},
     "output_type": "execute_result"
    }
   ],
   "source": [
    "contents.keys()"
   ]
  },
  {
   "cell_type": "code",
   "execution_count": 3,
   "metadata": {},
   "outputs": [],
   "source": [
    "retObj = {\n",
    "    \"subscribed\": False,\n",
    "    \"launchPoints\": [\n",
    "        {\n",
    "            \"mediumLargeIcon\": \"\",\n",
    "            \"bgColor\": \"\",\n",
    "            \"installTime\": 0,\n",
    "            \"userData\": \"\",\n",
    "            \"systemApp\": True,\n",
    "            \"appDescription\": \"\",\n",
    "            \"launchPointId\": \"com.webos.app.homeoffice_default\",\n",
    "            \"qCardTitle\": \"Home Office\",\n",
    "            \"bgImages\": [\n",
    "            ],\n",
    "            \"lptype\": \"default\",\n",
    "            \"relaunch\": False,\n",
    "            \"favicon\": \"\",\n",
    "            \"icon\": \"/usr/palm/applications/com.webos.app.homeoffice/ic_app_homeoffice.png\",\n",
    "            \"id\": \"com.webos.app.homeoffice\",\n",
    "            \"bgImage\": \"/usr/palm/applications/com.webos.app.homeoffice/img_splash_homeoffice_01.png\",\n",
    "            \"title\": \"Home Office\",\n",
    "            \"largeIcon\": \"/usr/palm/applications/com.webos.app.homeoffice/ic_app_homeoffice.png\",\n",
    "            \"iconColor\": \"#3CA0A8\",\n",
    "            \"tileSize\": \"normal\",\n",
    "            \"removable\": False,\n",
    "            \"params\": {\n",
    "            },\n",
    "            \"unmovable\": False,\n",
    "            \"extraLargeIcon\": \"/usr/palm/applications/com.webos.app.homeoffice/ic_app_homeoffice.png\",\n",
    "            \"qCardImage\": \"/media/system/qcards/com.webos.app.homeoffice/sys-assets/1920x1080/bg_qcard.png\",\n",
    "            \"imageForRecents\": \"/usr/palm/applications/com.webos.app.homeoffice/img_splash_homeoffice_01.png\",\n",
    "            \"miniicon\": \"\",\n",
    "            \"qCardDescription\": \"Work on a large screen\"\n",
    "        },\n",
    "        {\n",
    "            \"mediumLargeIcon\": \"\",\n",
    "            \"bgColor\": \"\",\n",
    "            \"installTime\": 0,\n",
    "            \"userData\": \"\",\n",
    "            \"systemApp\": True,\n",
    "            \"appDescription\": \"\",\n",
    "            \"launchPointId\": \"com.webos.app.totalmusic_default\",\n",
    "            \"qCardTitle\": \"Music\",\n",
    "            \"bgImages\": [\n",
    "            ],\n",
    "            \"lptype\": \"default\",\n",
    "            \"relaunch\": False,\n",
    "            \"favicon\": \"\",\n",
    "            \"icon\": \"/usr/palm/applications/com.webos.app.totalmusic/sys-assets/app_icon_music.png\",\n",
    "            \"id\": \"com.webos.app.totalmusic\",\n",
    "            \"bgImage\": \"/usr/palm/applications/com.webos.app.totalmusic/sys-assets/splash_music.png\",\n",
    "            \"title\": \"Music\",\n",
    "            \"largeIcon\": \"/usr/palm/applications/com.webos.app.totalmusic/sys-assets/app_icon_music.png\",\n",
    "            \"iconColor\": \"#7d54b0\",\n",
    "            \"tileSize\": \"normal\",\n",
    "            \"removable\": False,\n",
    "            \"params\": {\n",
    "            },\n",
    "            \"unmovable\": False,\n",
    "            \"extraLargeIcon\": \"/usr/palm/applications/com.webos.app.totalmusic/sys-assets/app_icon_music_large.png\",\n",
    "            \"qCardImage\": \"/media/system/qcards/com.webos.app.totalmusic/sys-assets/1920x1080/bg_qcard.png\",\n",
    "            \"imageForRecents\": \"/usr/palm/applications/com.webos.app.totalmusic/sys-assets/splash_music.png\",\n",
    "            \"miniicon\": \"\",\n",
    "            \"qCardDescription\": \"Enjoy various songs\"\n",
    "        },\n",
    "        {\n",
    "            \"mediumLargeIcon\": \"\",\n",
    "            \"bgColor\": \"\",\n",
    "            \"installTime\": 0,\n",
    "            \"userData\": \"\",\n",
    "            \"systemApp\": True,\n",
    "            \"appDescription\": \"\",\n",
    "            \"launchPointId\": \"com.webos.app.homeconnect_default\",\n",
    "            \"qCardTitle\": \"Home Hub\",\n",
    "            \"bgImages\": [\n",
    "            ],\n",
    "            \"lptype\": \"default\",\n",
    "            \"relaunch\": False,\n",
    "            \"favicon\": \"\",\n",
    "            \"icon\": \"/usr/palm/applications/com.webos.app.homeconnect/icon.png\",\n",
    "            \"id\": \"com.webos.app.homeconnect\",\n",
    "            \"bgImage\": \"/usr/palm/applications/com.webos.app.homeconnect/splash.png\",\n",
    "            \"title\": \"Home Hub\",\n",
    "            \"largeIcon\": \"/usr/palm/applications/com.webos.app.homeconnect/icon.png\",\n",
    "            \"iconColor\": \"#5e7bce\",\n",
    "            \"tileSize\": \"normal\",\n",
    "            \"removable\": False,\n",
    "            \"params\": {\n",
    "            },\n",
    "            \"unmovable\": False,\n",
    "            \"extraLargeIcon\": \"/usr/palm/applications/com.webos.app.homeconnect/icon_large.png\",\n",
    "            \"qCardImage\": \"/media/system/qcards/com.webos.app.homeconnect/sys-assets/1920x1080/bg_qcard.png\",\n",
    "            \"imageForRecents\": \"/usr/palm/applications/com.webos.app.homeconnect/recent.png\",\n",
    "            \"miniicon\": \"\",\n",
    "            \"qCardDescription\": \"A hub of the smart home\"\n",
    "        }\n",
    "    ],\n",
    "    \"returnValue\": True\n",
    "}"
   ]
  },
  {
   "cell_type": "code",
   "execution_count": 6,
   "metadata": {},
   "outputs": [
    {
     "name": "stdout",
     "output_type": "stream",
     "text": [
      "Home Office\n",
      "Music\n",
      "Home Hub\n"
     ]
    }
   ],
   "source": [
    "qcardlist = retObj['launchPoints']\n",
    "for qcard in qcardlist :\n",
    "    print(qcard['title'])"
   ]
  },
  {
   "cell_type": "code",
   "execution_count": null,
   "metadata": {},
   "outputs": [],
   "source": []
  }
 ],
 "metadata": {
  "kernelspec": {
   "display_name": "Python 3",
   "language": "python",
   "name": "python3"
  },
  "language_info": {
   "codemirror_mode": {
    "name": "ipython",
    "version": 3
   },
   "file_extension": ".py",
   "mimetype": "text/x-python",
   "name": "python",
   "nbconvert_exporter": "python",
   "pygments_lexer": "ipython3",
   "version": "3.11.3"
  },
  "orig_nbformat": 4,
  "vscode": {
   "interpreter": {
    "hash": "c261aea317cc0286b3b3261fbba9abdec21eaa57589985bb7a274bf54d6cc0a7"
   }
  }
 },
 "nbformat": 4,
 "nbformat_minor": 2
}
