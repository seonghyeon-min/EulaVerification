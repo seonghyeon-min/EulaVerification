{
 "cells": [
  {
   "cell_type": "code",
   "execution_count": 1,
   "metadata": {},
   "outputs": [],
   "source": [
    "resp = {\n",
    "    \"returnValue\": True,\n",
    "    \"serverResponse\": {\n",
    "        \"code\": \"200\",\n",
    "        \"message\": \"OK\",\n",
    "        \"response\": \"{ \\\"mapping_info\\\": [ { \\\"amazon\\\": { \\\"isActive\\\": true, \\\"app_id\\\": \\\"amazon\\\", \\\"launch_param\\\": null } }, { \\\"amazonalexa\\\": { \\\"isActive\\\": true, \\\"app_id\\\": \\\"amazon.alexa\\\", \\\"launch_param\\\": null } }, { \\\"disneyplus\\\": { \\\"isActive\\\": true, \\\"app_id\\\": \\\"com.disney.disneyplus-prod\\\", \\\"launch_param\\\": { \\\"contentTarget\\\": \\\"page=home&placement=partner_remote&placementDetail=lg_remote&distributionPartner=lg&numberOfRows=17&numberOfColumns=4&placementRow=15&placementColumn=0\\\", \\\"handledBy\\\": \\\"app\\\" } } }, { \\\"lgchannels\\\": { \\\"isActive\\\": true, \\\"app_id\\\": \\\"com.webos.app.lgchannels\\\", \\\"launch_param\\\": null } }, { \\\"movies\\\": { \\\"isActive\\\": true, \\\"app_id\\\": \\\"com.webos.app.voice\\\", \\\"launch_param\\\": { \\\"activateType\\\": \\\"search\\\", \\\"launchMode\\\": \\\"runtext\\\", \\\"params\\\": { \\\"text\\\": \\\"movie\\\" }, \\\"caller\\\": \\\"USP_KEY\\\" } } }, { \\\"netflix\\\": { \\\"isActive\\\": true, \\\"app_id\\\": \\\"netflix\\\", \\\"launch_param\\\": null } }, { \\\"new\\\": { \\\"isActive\\\": false, \\\"app_id\\\": \\\"com.webos.app.livetv\\\", \\\"launch_param\\\": null } }, { \\\"slingtv\\\": { \\\"isActive\\\": true, \\\"app_id\\\": \\\"com.movenetworks.app.sling-tv-sling-production\\\", \\\"launch_param\\\": null } } ] }\"\n",
    "    }\n",
    "}\n"
   ]
  },
  {
   "cell_type": "code",
   "execution_count": 3,
   "metadata": {},
   "outputs": [
    {
     "name": "stdout",
     "output_type": "stream",
     "text": [
      "{ \"mapping_info\": [ { \"amazon\": { \"isActive\": true, \"app_id\": \"amazon\", \"launch_param\": null } }, { \"amazonalexa\": { \"isActive\": true, \"app_id\": \"amazon.alexa\", \"launch_param\": null } }, { \"disneyplus\": { \"isActive\": true, \"app_id\": \"com.disney.disneyplus-prod\", \"launch_param\": { \"contentTarget\": \"page=home&placement=partner_remote&placementDetail=lg_remote&distributionPartner=lg&numberOfRows=17&numberOfColumns=4&placementRow=15&placementColumn=0\", \"handledBy\": \"app\" } } }, { \"lgchannels\": { \"isActive\": true, \"app_id\": \"com.webos.app.lgchannels\", \"launch_param\": null } }, { \"movies\": { \"isActive\": true, \"app_id\": \"com.webos.app.voice\", \"launch_param\": { \"activateType\": \"search\", \"launchMode\": \"runtext\", \"params\": { \"text\": \"movie\" }, \"caller\": \"USP_KEY\" } } }, { \"netflix\": { \"isActive\": true, \"app_id\": \"netflix\", \"launch_param\": null } }, { \"new\": { \"isActive\": false, \"app_id\": \"com.webos.app.livetv\", \"launch_param\": null } }, { \"slingtv\": { \"isActive\": true, \"app_id\": \"com.movenetworks.app.sling-tv-sling-production\", \"launch_param\": null } } ] }\n"
     ]
    }
   ],
   "source": [
    "res = resp['serverResponse']['response']\n",
    "print(res)\n",
    "\n",
    "import json \n",
    "result = json.loads(res)['mapping_info']"
   ]
  },
  {
   "cell_type": "code",
   "execution_count": 53,
   "metadata": {},
   "outputs": [],
   "source": [
    "from collections import defaultdict\n",
    "\n",
    "HotKeySettingData = defaultdict(list)\n",
    "HotkeySettingDict = defaultdict(list)\n",
    "for app in result : \n",
    "    for title, param in app.items() :\n",
    "        for key, value in param.items() :\n",
    "            if key == 'launch_param' : pass\n",
    "            else :\n",
    "                HotKeySettingData[title].append((key, value))"
   ]
  },
  {
   "cell_type": "code",
   "execution_count": 54,
   "metadata": {},
   "outputs": [
    {
     "data": {
      "text/plain": [
       "defaultdict(list,\n",
       "            {'amazon': [('isActive', True), ('app_id', 'amazon')],\n",
       "             'amazonalexa': [('isActive', True), ('app_id', 'amazon.alexa')],\n",
       "             'disneyplus': [('isActive', True),\n",
       "              ('app_id', 'com.disney.disneyplus-prod')],\n",
       "             'lgchannels': [('isActive', True),\n",
       "              ('app_id', 'com.webos.app.lgchannels')],\n",
       "             'movies': [('isActive', True), ('app_id', 'com.webos.app.voice')],\n",
       "             'netflix': [('isActive', True), ('app_id', 'netflix')],\n",
       "             'new': [('isActive', False), ('app_id', 'com.webos.app.livetv')],\n",
       "             'slingtv': [('isActive', True),\n",
       "              ('app_id', 'com.movenetworks.app.sling-tv-sling-production')]})"
      ]
     },
     "execution_count": 54,
     "metadata": {},
     "output_type": "execute_result"
    }
   ],
   "source": [
    "HotKeySettingData"
   ]
  },
  {
   "cell_type": "code",
   "execution_count": 55,
   "metadata": {},
   "outputs": [],
   "source": [
    "for item in HotKeySettingData :\n",
    "    dictmp = dict()\n",
    "    for k, v in HotKeySettingData[item] : \n",
    "        dictmp[k] = v\n",
    "    HotkeySettingDict[item].append(dictmp)"
   ]
  },
  {
   "cell_type": "code",
   "execution_count": 56,
   "metadata": {},
   "outputs": [
    {
     "data": {
      "text/plain": [
       "defaultdict(list,\n",
       "            {'amazon': [{'isActive': True, 'app_id': 'amazon'}],\n",
       "             'amazonalexa': [{'isActive': True, 'app_id': 'amazon.alexa'}],\n",
       "             'disneyplus': [{'isActive': True,\n",
       "               'app_id': 'com.disney.disneyplus-prod'}],\n",
       "             'lgchannels': [{'isActive': True,\n",
       "               'app_id': 'com.webos.app.lgchannels'}],\n",
       "             'movies': [{'isActive': True, 'app_id': 'com.webos.app.voice'}],\n",
       "             'netflix': [{'isActive': True, 'app_id': 'netflix'}],\n",
       "             'new': [{'isActive': False, 'app_id': 'com.webos.app.livetv'}],\n",
       "             'slingtv': [{'isActive': True,\n",
       "               'app_id': 'com.movenetworks.app.sling-tv-sling-production'}]})"
      ]
     },
     "execution_count": 56,
     "metadata": {},
     "output_type": "execute_result"
    }
   ],
   "source": [
    "HotkeySettingDict # serverData"
   ]
  },
  {
   "cell_type": "code",
   "execution_count": 60,
   "metadata": {},
   "outputs": [],
   "source": [
    "a, b = HotkeySettingDict['amazon'][0].values()"
   ]
  },
  {
   "cell_type": "code",
   "execution_count": 61,
   "metadata": {},
   "outputs": [
    {
     "data": {
      "text/plain": [
       "(True, 'amazon')"
      ]
     },
     "execution_count": 61,
     "metadata": {},
     "output_type": "execute_result"
    }
   ],
   "source": [
    "a, b"
   ]
  },
  {
   "cell_type": "code",
   "execution_count": 1,
   "metadata": {},
   "outputs": [
    {
     "ename": "NameError",
     "evalue": "name 'a' is not defined",
     "output_type": "error",
     "traceback": [
      "\u001b[1;31m---------------------------------------------------------------------------\u001b[0m",
      "\u001b[1;31mNameError\u001b[0m                                 Traceback (most recent call last)",
      "Cell \u001b[1;32mIn[1], line 1\u001b[0m\n\u001b[1;32m----> 1\u001b[0m \u001b[39mprint\u001b[39m(\u001b[39mf\u001b[39m\u001b[39m'\u001b[39m\u001b[39m{\u001b[39;00ma\u001b[39m}\u001b[39;00m\u001b[39m'\u001b[39m)\n",
      "\u001b[1;31mNameError\u001b[0m: name 'a' is not defined"
     ]
    }
   ],
   "source": [
    "print(f'{a}')"
   ]
  },
  {
   "cell_type": "code",
   "execution_count": 5,
   "metadata": {},
   "outputs": [
    {
     "data": {
      "text/plain": [
       "True"
      ]
     },
     "execution_count": 5,
     "metadata": {},
     "output_type": "execute_result"
    }
   ],
   "source": [
    "a = False\n",
    "b = 'False'\n",
    "\n",
    "a = str(a)\n",
    "\n",
    "a == b"
   ]
  },
  {
   "cell_type": "code",
   "execution_count": null,
   "metadata": {},
   "outputs": [],
   "source": []
  }
 ],
 "metadata": {
  "kernelspec": {
   "display_name": "Python 3",
   "language": "python",
   "name": "python3"
  },
  "language_info": {
   "codemirror_mode": {
    "name": "ipython",
    "version": 3
   },
   "file_extension": ".py",
   "mimetype": "text/x-python",
   "name": "python",
   "nbconvert_exporter": "python",
   "pygments_lexer": "ipython3",
   "version": "3.11.3 (tags/v3.11.3:f3909b8, Apr  4 2023, 23:49:59) [MSC v.1934 64 bit (AMD64)]"
  },
  "orig_nbformat": 4,
  "vscode": {
   "interpreter": {
    "hash": "c261aea317cc0286b3b3261fbba9abdec21eaa57589985bb7a274bf54d6cc0a7"
   }
  }
 },
 "nbformat": 4,
 "nbformat_minor": 2
}
